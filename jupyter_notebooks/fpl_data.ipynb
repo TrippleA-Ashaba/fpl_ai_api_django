{
 "cells": [
  {
   "cell_type": "markdown",
   "metadata": {},
   "source": [
    "# Data analysis of the fantasy premier league\n",
    "\n",
    "### Goal of Analysis: Use data science to get the best possible team for the next gameweek as well as suggest the best possible transfers according to the available resources.\n"
   ]
  },
  {
   "cell_type": "code",
   "execution_count": 2,
   "metadata": {},
   "outputs": [],
   "source": [
    "import requests\n",
    "\n",
    "FPL_URL = \"https://fantasy.premierleague.com/api/bootstrap-static/\"\n",
    "\n",
    "\n",
    "def get_game_data():\n",
    "    # get json object from fpl api\n",
    "    data = requests.get(FPL_URL).json()\n",
    "\n",
    "    return data\n",
    "\n"
   ]
  }
 ],
 "metadata": {
  "kernelspec": {
   "display_name": "Python 3 (ipykernel)",
   "language": "python",
   "name": "python3"
  },
  "language_info": {
   "codemirror_mode": {
    "name": "ipython",
    "version": 3
   },
   "file_extension": ".py",
   "mimetype": "text/x-python",
   "name": "python",
   "nbconvert_exporter": "python",
   "pygments_lexer": "ipython3",
   "version": "3.11.1"
  },
  "vscode": {
   "interpreter": {
    "hash": "2f2aaf47462f4d1542b3ebc9e0a3ea18654d8010215b7c4345e83e4b00f86852"
   }
  }
 },
 "nbformat": 4,
 "nbformat_minor": 2
}
